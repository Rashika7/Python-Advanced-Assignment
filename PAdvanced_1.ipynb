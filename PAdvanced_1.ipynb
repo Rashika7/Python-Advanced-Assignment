{
 "cells": [
  {
   "cell_type": "markdown",
   "id": "efa37096",
   "metadata": {},
   "source": [
    "# Q1. What is the purpose of Python's OOP?"
   ]
  },
  {
   "cell_type": "markdown",
   "id": "3296710d",
   "metadata": {},
   "source": [
    "Ans-1) In Python, OOPs means object-oriented Programming that uses objects and classes, inheritance, polymorphisms, encapsulation to implement real-world entities."
   ]
  },
  {
   "cell_type": "markdown",
   "id": "eeb58d9c",
   "metadata": {},
   "source": [
    "# Q2. Where does an inheritance search look for an attribute?"
   ]
  },
  {
   "cell_type": "markdown",
   "id": "e8f437be",
   "metadata": {},
   "source": [
    "Ans-2) Inheritance search look for an attribute from bottom to top."
   ]
  },
  {
   "cell_type": "markdown",
   "id": "e9bfb307",
   "metadata": {},
   "source": [
    "# Q3. How do you distinguish between a class object and an instance object?"
   ]
  },
  {
   "cell_type": "markdown",
   "id": "d4b9a56d",
   "metadata": {},
   "source": [
    "Ans-3)\n",
    "Class object-\n",
    "A class is a logical entity, does not allocate memory space when it is created, also declare only once.\tExample: School.\t\n",
    "\n",
    "Instance object-\n",
    "Instance Object is a physical entity, we can create more than one object using a class.Example: Primary, Secondary."
   ]
  },
  {
   "cell_type": "markdown",
   "id": "700ec09e",
   "metadata": {},
   "source": [
    "# Q4. What makes the first argument in a class’s method function special?"
   ]
  },
  {
   "cell_type": "markdown",
   "id": "0eb28c90",
   "metadata": {},
   "source": [
    "Ans-4) The first argument in a class’s method function special makes self, that provides a handle back to the instance to be processed. Methods with two underscores at the start and end of names are special methods."
   ]
  },
  {
   "cell_type": "markdown",
   "id": "c55e107e",
   "metadata": {},
   "source": [
    "# Q5. What is the purpose of the __init__ method?"
   ]
  },
  {
   "cell_type": "markdown",
   "id": "75c02ce5",
   "metadata": {},
   "source": [
    "Ans-5) The __init__ method is similar to constructors in other programming languages like c++ and java. Constructors are used to initialize the object's state. The task of constructors is to initialize(assign values) to the data members of the class when an object of class is created."
   ]
  },
  {
   "cell_type": "markdown",
   "id": "8b20dc3a",
   "metadata": {},
   "source": [
    "# Q6. What is the process for creating a class instance?"
   ]
  },
  {
   "cell_type": "markdown",
   "id": "454f792d",
   "metadata": {},
   "source": [
    "Ans-6) The process for creating a class instance is use new keyword, When we create an instance of the class by using the new keyword, it allocates memory (heap) for the newly created object and also returns the reference of that object to that memory."
   ]
  },
  {
   "cell_type": "markdown",
   "id": "e5fb66e5",
   "metadata": {},
   "source": [
    "# Q7. What is the process for creating a class?"
   ]
  },
  {
   "cell_type": "markdown",
   "id": "7d45d1ed",
   "metadata": {},
   "source": [
    "Ans-7) The class Process provides methods for performing input from the process, performing output to the process, waiting for the process to complete, checking the exit status of the process, destroying the process, code security."
   ]
  },
  {
   "cell_type": "markdown",
   "id": "4ac12cd1",
   "metadata": {},
   "source": [
    "# Q8. How would you define the superclasses of a class?"
   ]
  },
  {
   "cell_type": "markdown",
   "id": "0ce90721",
   "metadata": {},
   "source": [
    "Ans-8) Superclasses of a class means the class created and to use the existing class to next class, or we can say a superclass is the class from which many subclasses can be created. The subclasses inherit the characteristics of a superclass."
   ]
  },
  {
   "cell_type": "markdown",
   "id": "b23f5dad",
   "metadata": {},
   "source": [
    "                                Keep Learning, Keep Growing."
   ]
  }
 ],
 "metadata": {
  "kernelspec": {
   "display_name": "Python 3 (ipykernel)",
   "language": "python",
   "name": "python3"
  },
  "language_info": {
   "codemirror_mode": {
    "name": "ipython",
    "version": 3
   },
   "file_extension": ".py",
   "mimetype": "text/x-python",
   "name": "python",
   "nbconvert_exporter": "python",
   "pygments_lexer": "ipython3",
   "version": "3.9.7"
  }
 },
 "nbformat": 4,
 "nbformat_minor": 5
}
